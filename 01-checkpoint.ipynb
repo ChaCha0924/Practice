{
 "cells": [
  {
   "cell_type": "markdown",
   "id": "ea62bb0e-7365-46de-8439-b842db54176e",
   "metadata": {},
   "source": [
    "## 프로그래밍이란?\n",
    "    - 프로그래밍 언어를 사용하여 프로그램을 개발하는 것\n",
    "    - 논리적인 사고를 가질 수 있다.\n",
    "## programing language?\n",
    "    - 프로그램을 개발할 때 사용하는 도구\n",
    "    - 인간이 원하는 것을 컴퓨터에게 명령할 때 사용하는 컴퓨터가 이해할 수 있는 언어\n",
    "    \n",
    "## 파이썬?\n",
    "    - 쉽다. 간결하다.\n",
    "    - 라이브러리가 많다."
   ]
  },
  {
   "cell_type": "code",
   "execution_count": null,
   "id": "75c3311e-31a2-438d-ac0e-d5a0f869d279",
   "metadata": {},
   "outputs": [],
   "source": []
  }
 ],
 "metadata": {
  "kernelspec": {
   "display_name": "Python 3 (ipykernel)",
   "language": "python",
   "name": "python3"
  },
  "language_info": {
   "codemirror_mode": {
    "name": "ipython",
    "version": 3
   },
   "file_extension": ".py",
   "mimetype": "text/x-python",
   "name": "python",
   "nbconvert_exporter": "python",
   "pygments_lexer": "ipython3",
   "version": "3.9.7"
  }
 },
 "nbformat": 4,
 "nbformat_minor": 5
}
